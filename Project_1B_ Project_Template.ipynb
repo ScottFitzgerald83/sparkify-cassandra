{
 "cells": [
  {
   "cell_type": "markdown",
   "metadata": {},
   "source": [
    "# Part I. ETL Pipeline for Pre-Processing the Files"
   ]
  },
  {
   "cell_type": "markdown",
   "metadata": {},
   "source": [
    "#### Import Python packages "
   ]
  },
  {
   "cell_type": "code",
   "execution_count": 1,
   "metadata": {},
   "outputs": [],
   "source": [
    "import csv\n",
    "import glob\n",
    "import re\n",
    "import os\n",
    "import json\n",
    "from datetime import datetime\n",
    "\n",
    "import numpy as np\n",
    "import pandas as pd\n",
    "# import cassandra\n",
    "from cassandra.cluster import Cluster\n"
   ]
  },
  {
   "cell_type": "markdown",
   "metadata": {},
   "source": [
    "#### Merge all CSV files into one"
   ]
  },
  {
   "cell_type": "code",
   "execution_count": 2,
   "metadata": {},
   "outputs": [],
   "source": [
    "# Consolidate all CSV files into one  \n",
    "def merge_csvs():\n",
    "    # Get current folder and subfolder event data\n",
    "    filepath = os.getcwd() + '/event_data'\n",
    "    print(f'{datetime.now()} Merging CSVs in {filepath}')\n",
    "\n",
    "    # collect and join filepaths\n",
    "    for root, dirs, files in os.walk(filepath):\n",
    "        file_path_list = glob.glob(os.path.join(root,'*'))\n",
    "    \n",
    "    full_data_rows_list = [] \n",
    "    for f in file_path_list:\n",
    "        with open(f, 'r', encoding = 'utf8', newline='') as csvfile: \n",
    "            csvreader = csv.reader(csvfile) \n",
    "            next(csvreader)\n",
    "            for line in csvreader:\n",
    "                full_data_rows_list.append(line) \n",
    "\n",
    "    csv.register_dialect('myDialect', quoting=csv.QUOTE_ALL, skipinitialspace=True)\n",
    "\n",
    "    with open('event_datafile_new.csv', 'w', encoding = 'utf8', newline='') as f:\n",
    "        writer = csv.writer(f, dialect='myDialect')\n",
    "        writer.writerow(['artist','first_name','gender','item_in_session','last_name','length',\\\n",
    "                    'level','location','session_id','song','user_id'])\n",
    "        for row in full_data_rows_list:\n",
    "            if (row[0] == ''):\n",
    "                continue\n",
    "            writer.writerow((row[0], row[2], row[3], row[4], row[5], row[6], row[7], row[8], row[12], row[13], row[16]))\n",
    "    print(f'{datetime.now()} Finished merging CSVs. Merged csv is at {os.getcwd()}/event_datafile_new.csv')\n",
    "    "
   ]
  },
  {
   "cell_type": "markdown",
   "metadata": {},
   "source": [
    "# Part II. Complete the Apache Cassandra coding portion of your project. \n",
    "\n",
    "Now you are ready to work with the CSV file titled `event_datafile_new.csv`, located within the Workspace directory.  The `event_datafile_new.csv` contains the following columns: \n",
    "\n",
    "- artist \n",
    "- firstName of user\n",
    "- gender of user\n",
    "- item number in session\n",
    "- last name of user\n",
    "- length of the song\n",
    "- level (paid or free song)\n",
    "- location of the user\n",
    "- sessionId\n",
    "- song title\n",
    "- userId\n",
    "\n",
    "The image below is a screenshot of what the denormalized data should appear like in the `event_datafile_new.csv` after the code above is run:\n",
    "\n",
    "<img src=\"images/image_event_datafile_new.jpg\">"
   ]
  },
  {
   "cell_type": "markdown",
   "metadata": {},
   "source": [
    "## Begin writing your Apache Cassandra code in the cells below"
   ]
  },
  {
   "cell_type": "markdown",
   "metadata": {},
   "source": [
    "### Helpers"
   ]
  },
  {
   "cell_type": "code",
   "execution_count": 3,
   "metadata": {},
   "outputs": [],
   "source": [
    "# Column name to number map\n",
    "CSV_COLS = {\"artist\": 0, \"first_name\": 1, \"gender\":2, \"item_in_session\": 3,\"last_name\": 4,\n",
    "            \"length\": 5,\"level\": 6,\"location\": 7,\"session_id\": 8,\"song\": 9,\"user_id\": 10}"
   ]
  },
  {
   "cell_type": "code",
   "execution_count": 4,
   "metadata": {},
   "outputs": [],
   "source": [
    "def connect_to_cluster(host='127.0.0.1'):\n",
    "    try:\n",
    "        cluster = Cluster([host])\n",
    "        print(f'{datetime.now()} Cluster created at {host} and connected to cluster.')\n",
    "        return (cluster, cluster.connect())\n",
    "    except Exception as e:\n",
    "        print(e)\n",
    "\n",
    "def create_keyspace(keyspace, repl_class='SimpleStrategy', repl_factor=1):\n",
    "    replication = {'class' : repl_class, 'replication_factor' : repl_factor}\n",
    "    try:\n",
    "        session.execute(f\"CREATE KEYSPACE IF NOT EXISTS {keyspace} WITH REPLICATION = {replication}\")\n",
    "        print(f'{datetime.now()} Created KEYSPACE {keyspace} with replication = {replication}')\n",
    "    except Exception as e:\n",
    "        print(e)\n",
    "        \n",
    "def set_keyspace(keyspace):\n",
    "    try:\n",
    "        session.set_keyspace(keyspace)\n",
    "        print(f'{datetime.now()} Setting KEYSPACE {keyspace}')\n",
    "    except Exception as e:\n",
    "        print(e)\n",
    "        \n",
    "def execute_query(sql):\n",
    "    try:\n",
    "        return session.execute(sql)\n",
    "    except Exception as e:\n",
    "        print(e)\n",
    "        \n",
    "def pandas_factory(colnames, rows):\n",
    "    return pd.DataFrame(rows, columns=colnames)\n",
    "\n",
    "def build_df(query):\n",
    "    session.row_factory = pandas_factory\n",
    "    result = session.execute(query, timeout=None)\n",
    "    return result._current_rows\n",
    "\n",
    "def build_insert_statment(table, columns):\n",
    "    \"\"\"Creates an insert statement for a given table and columns\"\"\"\n",
    "    return f\"\"\"\n",
    "    INSERT INTO {table} ({(', '.join(columns))})\n",
    "    VALUES ({(', '.join(['%s'] * len(columns)))})\n",
    "    \"\"\""
   ]
  },
  {
   "cell_type": "markdown",
   "metadata": {},
   "source": [
    "### Now we need to create tables to run the following queries. Remember, with Apache Cassandra you model the database tables on the queries you want to run."
   ]
  },
  {
   "cell_type": "markdown",
   "metadata": {},
   "source": [
    "## Create queries to ask the following three questions of the data\n",
    "\n",
    "1. Give me the artist, song title and song's length in the music app history that was heard during  sessionId = 338, and itemInSession  = 4\n",
    "\n",
    "\n",
    "2. Give me only the following: name of artist, song (sorted by itemInSession) and user (first and last name) for userid = 10, sessionid = 182\n",
    "    \n",
    "\n",
    "3. Give me every user name (first and last) in my music app history who listened to the song 'All Hands Against His Own'\n",
    "\n",
    "\n"
   ]
  },
  {
   "cell_type": "markdown",
   "metadata": {},
   "source": [
    "# `DROP`/`CREATE` statements"
   ]
  },
  {
   "cell_type": "code",
   "execution_count": 5,
   "metadata": {},
   "outputs": [],
   "source": [
    "session_and_item_drop = \"DROP TABLE IF EXISTS song_details_by_session_and_item;\"\n",
    "session_and_item_create = \"\"\"\n",
    "CREATE TABLE song_details_by_session_and_item (\n",
    "      artist text,\n",
    "      song text,\n",
    "      length float,\n",
    "      session_id int,\n",
    "      item_in_session int,\n",
    "      PRIMARY KEY ((session_id, item_in_session), artist, song)\n",
    ");\n",
    "\"\"\"\n",
    "\n",
    "by_user_session_drop = \"DROP TABLE IF EXISTS song_details_by_user_session;\"\n",
    "by_user_session_create = \"\"\"\n",
    "CREATE TABLE song_details_by_user_session (\n",
    "      artist text,\n",
    "      song text,\n",
    "      session_id int,\n",
    "      item_in_session int,\n",
    "      user_id int,\n",
    "      first_name text,\n",
    "      last_name text,\n",
    "      PRIMARY KEY (user_id, session_id, item_in_session)\n",
    ");\n",
    "\"\"\"\n",
    "\n",
    "user_details_by_song_drop = \"DROP TABLE IF EXISTS user_details_by_song_name;\"\n",
    "user_details_by_song_create = \"\"\"\n",
    "CREATE TABLE user_details_by_song_name (\n",
    "      song text,\n",
    "      first_name text,\n",
    "      last_name text,\n",
    "      PRIMARY KEY (song, first_name, last_name)\n",
    ");\n",
    "\"\"\""
   ]
  },
  {
   "cell_type": "markdown",
   "metadata": {},
   "source": [
    "# `SELECT` statements"
   ]
  },
  {
   "cell_type": "code",
   "execution_count": 6,
   "metadata": {},
   "outputs": [],
   "source": [
    "session_and_item_select = \"\"\"\n",
    "    SELECT artist, song, length\n",
    "    FROM song_details_by_session_and_item  \n",
    "    WHERE session_id = 338  \n",
    "    AND item_in_session = 4;\n",
    "    \"\"\"\n",
    "\n",
    "by_user_session_select = \"\"\"\n",
    "    SELECT artist, song, first_name, last_name\n",
    "    FROM song_details_by_user_session\n",
    "    WHERE user_id = 10 \n",
    "    AND session_id = 182\n",
    "    \"\"\"\n",
    "\n",
    "by_song_name_select = \"\"\"\n",
    "    SELECT first_name, last_name \n",
    "    FROM user_details_by_song_name\n",
    "    WHERE song = 'All Hands Against His Own'\n",
    "    \"\"\""
   ]
  },
  {
   "cell_type": "markdown",
   "metadata": {},
   "source": [
    "# Create and load tables"
   ]
  },
  {
   "cell_type": "code",
   "execution_count": 7,
   "metadata": {},
   "outputs": [],
   "source": [
    "def session_and_item_load():\n",
    "    print(f'{datetime.now()} Loading table `session_and_item_load`')\n",
    "    execute_query(session_and_item_drop)\n",
    "    execute_query(session_and_item_create)\n",
    "    file = 'event_datafile_new.csv'\n",
    "    with open(file, encoding = 'utf8') as f:\n",
    "        csvreader = csv.reader(f)\n",
    "        next(csvreader) # skip header\n",
    "        for line in csvreader:\n",
    "            query = build_insert_statment('song_details_by_session_and_item', ['artist', 'song', 'length', 'session_id', 'item_in_session'])\n",
    "            session.execute(query, (line[CSV_COLS['artist']], \n",
    "                                    line[CSV_COLS['song']], \n",
    "                                    float(line[CSV_COLS['length']]), \n",
    "                                    int(line[CSV_COLS['session_id']]), \n",
    "                                    int(line[CSV_COLS['item_in_session']])))\n",
    "    validate_load = execute_query(\"select count(*) from song_details_by_session_and_item;\")\n",
    "    print(f'{datetime.now()} {[r.count for r in validate_load][0]} rows loaded into `song_details_by_session_and_item`')\n"
   ]
  },
  {
   "cell_type": "code",
   "execution_count": 8,
   "metadata": {},
   "outputs": [],
   "source": [
    "def by_user_session_load():\n",
    "    print(f'{datetime.now()} Loading table `song_details_by_user_session`')\n",
    "    execute_query(by_user_session_drop)\n",
    "    execute_query(by_user_session_create)\n",
    "\n",
    "    file = 'event_datafile_new.csv'\n",
    "    with open(file, encoding = 'utf8') as f:\n",
    "        csvreader = csv.reader(f)\n",
    "        next(csvreader) # skip header\n",
    "        for line in csvreader:\n",
    "            query = build_insert_statment('song_details_by_user_session', ['artist', 'song', 'session_id', 'item_in_session', 'user_id', 'first_name', 'last_name'])\n",
    "            session.execute(query, (line[CSV_COLS['artist']], \n",
    "                                    line[CSV_COLS['song']], \n",
    "                                    int(line[CSV_COLS['session_id']]), \n",
    "                                    int(line[CSV_COLS['item_in_session']]), \n",
    "                                    int(line[CSV_COLS['user_id']]), \n",
    "                                    line[CSV_COLS['first_name']], \n",
    "                                    line[CSV_COLS['last_name']]))\n",
    "    validate_load = execute_query(\"select count(*) from song_details_by_user_session;\")\n",
    "    print(f'{datetime.now()} {[r.count for r in validate_load][0]} rows loaded into `song_details_by_user_session`')"
   ]
  },
  {
   "cell_type": "code",
   "execution_count": 9,
   "metadata": {},
   "outputs": [],
   "source": [
    "def by_song_name_load():\n",
    "    print(f'{datetime.now()} Loading table `user_details_by_song_name`')\n",
    "    execute_query(user_details_by_song_drop)\n",
    "    execute_query(user_details_by_song_create)\n",
    "    file = 'event_datafile_new.csv'\n",
    "    with open(file, encoding = 'utf8') as f:\n",
    "        csvreader = csv.reader(f)\n",
    "        next(csvreader) # skip header\n",
    "        for line in csvreader:\n",
    "            query = build_insert_statment('user_details_by_song_name', ['song', 'first_name', 'last_name'])\n",
    "            session.execute(query, (line[CSV_COLS['song']], \n",
    "                                    line[CSV_COLS['first_name']], \n",
    "                                    line[CSV_COLS['last_name']]))\n",
    "\n",
    "    validate_load = execute_query(\"select count(*) from user_details_by_song_name;\")\n",
    "    print(f'{datetime.now()} {[r.count for r in validate_load][0]} rows loaded into `user_details_by_song_name`')"
   ]
  },
  {
   "cell_type": "markdown",
   "metadata": {},
   "source": [
    "#### Main function, which invokes all other functions"
   ]
  },
  {
   "cell_type": "code",
   "execution_count": 10,
   "metadata": {},
   "outputs": [
    {
     "name": "stdout",
     "output_type": "stream",
     "text": [
      "2019-08-31 21:30:07.539528 Cluster created at 127.0.0.1 and connected to cluster.\n"
     ]
    }
   ],
   "source": [
    "# Define cluster and session globally so we don't have to pass them into every function\n",
    "cluster, session = connect_to_cluster()\n",
    "\n",
    "def main():\n",
    "    merge_csvs()\n",
    "    create_keyspace('sparkify')\n",
    "    set_keyspace('sparkify')\n",
    "    session_and_item_load()\n",
    "    by_user_session_load()\n",
    "    by_song_name_load()"
   ]
  },
  {
   "cell_type": "markdown",
   "metadata": {},
   "source": [
    "#### Call main function"
   ]
  },
  {
   "cell_type": "code",
   "execution_count": 11,
   "metadata": {},
   "outputs": [
    {
     "name": "stdout",
     "output_type": "stream",
     "text": [
      "2019-08-31 21:30:07.563911 Merging CSVs in /Users/fitscott/denano/sparkify-cassandra/event_data\n",
      "2019-08-31 21:30:07.631190 Finished merging CSVs. Merged csv is at /Users/fitscott/denano/sparkify-cassandra/event_datafile_new.csv\n",
      "2019-08-31 21:30:07.635463 Created KEYSPACE sparkify with replication = {'class': 'SimpleStrategy', 'replication_factor': 1}\n",
      "2019-08-31 21:30:07.636568 Setting KEYSPACE sparkify\n",
      "2019-08-31 21:30:07.636641 Loading table `session_and_item_load`\n",
      "2019-08-31 21:30:10.733541 6820 rows loaded into `song_details_by_session_and_item`\n",
      "2019-08-31 21:30:10.733645 Loading table `song_details_by_user_session`\n",
      "2019-08-31 21:30:13.531338 6820 rows loaded into `song_details_by_user_session`\n",
      "2019-08-31 21:30:13.531462 Loading table `user_details_by_song_name`\n",
      "2019-08-31 21:30:16.087833 6618 rows loaded into `user_details_by_song_name`\n"
     ]
    }
   ],
   "source": [
    "if __name__ == '__main__':\n",
    "    main()"
   ]
  },
  {
   "cell_type": "markdown",
   "metadata": {},
   "source": [
    "# Query #1: Session and item table\n",
    "### Give me the artist, song title and song's length in the music app history that was heard during  sessionId = 338, and itemInSession  = 4\n",
    "\n",
    "```\n",
    "SELECT artist, song, length\n",
    "FROM song_details_by_session_and_item  \n",
    "WHERE session_id = 338  \n",
    "AND item_in_session = 4;\n",
    "```"
   ]
  },
  {
   "cell_type": "markdown",
   "metadata": {},
   "source": [
    "#### Verify the data have been properly inserted into each table -- build a dataframe based on each query"
   ]
  },
  {
   "cell_type": "code",
   "execution_count": 12,
   "metadata": {},
   "outputs": [
    {
     "data": {
      "text/html": [
       "<div>\n",
       "<style scoped>\n",
       "    .dataframe tbody tr th:only-of-type {\n",
       "        vertical-align: middle;\n",
       "    }\n",
       "\n",
       "    .dataframe tbody tr th {\n",
       "        vertical-align: top;\n",
       "    }\n",
       "\n",
       "    .dataframe thead th {\n",
       "        text-align: right;\n",
       "    }\n",
       "</style>\n",
       "<table border=\"1\" class=\"dataframe\">\n",
       "  <thead>\n",
       "    <tr style=\"text-align: right;\">\n",
       "      <th></th>\n",
       "      <th>artist</th>\n",
       "      <th>song</th>\n",
       "      <th>length</th>\n",
       "    </tr>\n",
       "  </thead>\n",
       "  <tbody>\n",
       "    <tr>\n",
       "      <td>0</td>\n",
       "      <td>Faithless</td>\n",
       "      <td>Music Matters (Mark Knight Dub)</td>\n",
       "      <td>495.307312</td>\n",
       "    </tr>\n",
       "  </tbody>\n",
       "</table>\n",
       "</div>"
      ],
      "text/plain": [
       "      artist                             song      length\n",
       "0  Faithless  Music Matters (Mark Knight Dub)  495.307312"
      ]
     },
     "execution_count": 12,
     "metadata": {},
     "output_type": "execute_result"
    }
   ],
   "source": [
    "session_and_item_df = build_df(session_and_item_select)\n",
    "session_and_item_df.head()"
   ]
  },
  {
   "cell_type": "markdown",
   "metadata": {},
   "source": [
    "# Query #2: Song details by user session\n",
    "### Give me only the following: name of artist, song (sorted by itemInSession) and user (first and last name) for userid = 10, sessionid = 182\n",
    "```\n",
    "SELECT artist, song, first_name, last_name \n",
    "FROM music_history \n",
    "WHERE user_id = 10 \n",
    "AND session_id = 182\n",
    "```"
   ]
  },
  {
   "cell_type": "markdown",
   "metadata": {},
   "source": [
    "#### Verify the data have been properly inserted into each table -- build a dataframe based on each query"
   ]
  },
  {
   "cell_type": "code",
   "execution_count": 13,
   "metadata": {},
   "outputs": [
    {
     "data": {
      "text/html": [
       "<div>\n",
       "<style scoped>\n",
       "    .dataframe tbody tr th:only-of-type {\n",
       "        vertical-align: middle;\n",
       "    }\n",
       "\n",
       "    .dataframe tbody tr th {\n",
       "        vertical-align: top;\n",
       "    }\n",
       "\n",
       "    .dataframe thead th {\n",
       "        text-align: right;\n",
       "    }\n",
       "</style>\n",
       "<table border=\"1\" class=\"dataframe\">\n",
       "  <thead>\n",
       "    <tr style=\"text-align: right;\">\n",
       "      <th></th>\n",
       "      <th>artist</th>\n",
       "      <th>song</th>\n",
       "      <th>first_name</th>\n",
       "      <th>last_name</th>\n",
       "    </tr>\n",
       "  </thead>\n",
       "  <tbody>\n",
       "    <tr>\n",
       "      <td>0</td>\n",
       "      <td>Down To The Bone</td>\n",
       "      <td>Keep On Keepin' On</td>\n",
       "      <td>Sylvie</td>\n",
       "      <td>Cruz</td>\n",
       "    </tr>\n",
       "    <tr>\n",
       "      <td>1</td>\n",
       "      <td>Three Drives</td>\n",
       "      <td>Greece 2000</td>\n",
       "      <td>Sylvie</td>\n",
       "      <td>Cruz</td>\n",
       "    </tr>\n",
       "    <tr>\n",
       "      <td>2</td>\n",
       "      <td>Sebastien Tellier</td>\n",
       "      <td>Kilometer</td>\n",
       "      <td>Sylvie</td>\n",
       "      <td>Cruz</td>\n",
       "    </tr>\n",
       "    <tr>\n",
       "      <td>3</td>\n",
       "      <td>Lonnie Gordon</td>\n",
       "      <td>Catch You Baby (Steve Pitron &amp; Max Sanna Radio...</td>\n",
       "      <td>Sylvie</td>\n",
       "      <td>Cruz</td>\n",
       "    </tr>\n",
       "  </tbody>\n",
       "</table>\n",
       "</div>"
      ],
      "text/plain": [
       "              artist                                               song  \\\n",
       "0   Down To The Bone                                 Keep On Keepin' On   \n",
       "1       Three Drives                                        Greece 2000   \n",
       "2  Sebastien Tellier                                          Kilometer   \n",
       "3      Lonnie Gordon  Catch You Baby (Steve Pitron & Max Sanna Radio...   \n",
       "\n",
       "  first_name last_name  \n",
       "0     Sylvie      Cruz  \n",
       "1     Sylvie      Cruz  \n",
       "2     Sylvie      Cruz  \n",
       "3     Sylvie      Cruz  "
      ]
     },
     "execution_count": 13,
     "metadata": {},
     "output_type": "execute_result"
    }
   ],
   "source": [
    "song_details_by_user_session_df = build_df(by_user_session_select)\n",
    "song_details_by_user_session_df.head()"
   ]
  },
  {
   "cell_type": "markdown",
   "metadata": {},
   "source": [
    "# Query #3: User details by song name\n",
    "### Give me every user name (first and last) in my music app history who listened to the song 'All Hands Against His Own'\n",
    "```\n",
    "SELECT first_name, last_name \n",
    "FROM user_details_by_song_name \n",
    "WHERE song = 'All Hands Against His Own'\n",
    "\n",
    "```"
   ]
  },
  {
   "cell_type": "markdown",
   "metadata": {},
   "source": [
    "#### Verify the data have been properly inserted into each table -- build a dataframe based on each query"
   ]
  },
  {
   "cell_type": "code",
   "execution_count": 14,
   "metadata": {},
   "outputs": [
    {
     "data": {
      "text/html": [
       "<div>\n",
       "<style scoped>\n",
       "    .dataframe tbody tr th:only-of-type {\n",
       "        vertical-align: middle;\n",
       "    }\n",
       "\n",
       "    .dataframe tbody tr th {\n",
       "        vertical-align: top;\n",
       "    }\n",
       "\n",
       "    .dataframe thead th {\n",
       "        text-align: right;\n",
       "    }\n",
       "</style>\n",
       "<table border=\"1\" class=\"dataframe\">\n",
       "  <thead>\n",
       "    <tr style=\"text-align: right;\">\n",
       "      <th></th>\n",
       "      <th>first_name</th>\n",
       "      <th>last_name</th>\n",
       "    </tr>\n",
       "  </thead>\n",
       "  <tbody>\n",
       "    <tr>\n",
       "      <td>0</td>\n",
       "      <td>Jacqueline</td>\n",
       "      <td>Lynch</td>\n",
       "    </tr>\n",
       "    <tr>\n",
       "      <td>1</td>\n",
       "      <td>Sara</td>\n",
       "      <td>Johnson</td>\n",
       "    </tr>\n",
       "    <tr>\n",
       "      <td>2</td>\n",
       "      <td>Tegan</td>\n",
       "      <td>Levine</td>\n",
       "    </tr>\n",
       "  </tbody>\n",
       "</table>\n",
       "</div>"
      ],
      "text/plain": [
       "   first_name last_name\n",
       "0  Jacqueline     Lynch\n",
       "1        Sara   Johnson\n",
       "2       Tegan    Levine"
      ]
     },
     "execution_count": 14,
     "metadata": {},
     "output_type": "execute_result"
    }
   ],
   "source": [
    "by_song_name_df = build_df(by_song_name_select)\n",
    "by_song_name_df.head()"
   ]
  },
  {
   "cell_type": "markdown",
   "metadata": {},
   "source": [
    "### Drop the tables then close out the sessions"
   ]
  },
  {
   "cell_type": "code",
   "execution_count": 15,
   "metadata": {},
   "outputs": [
    {
     "data": {
      "text/plain": [
       "<cassandra.cluster.ResultSet at 0x112565290>"
      ]
     },
     "execution_count": 15,
     "metadata": {},
     "output_type": "execute_result"
    }
   ],
   "source": [
    "execute_query(\"DROP TABLE song_details_by_session_and_item;\")\n",
    "execute_query(\"DROP TABLE song_details_by_user_session;\")\n",
    "execute_query(\"DROP TABLE user_details_by_song_name;\")"
   ]
  },
  {
   "cell_type": "code",
   "execution_count": 16,
   "metadata": {},
   "outputs": [],
   "source": [
    "session.shutdown()\n",
    "cluster.shutdown()"
   ]
  }
 ],
 "metadata": {
  "kernelspec": {
   "display_name": "Python 3",
   "language": "python",
   "name": "python3"
  },
  "language_info": {
   "codemirror_mode": {
    "name": "ipython",
    "version": 3
   },
   "file_extension": ".py",
   "mimetype": "text/x-python",
   "name": "python",
   "nbconvert_exporter": "python",
   "pygments_lexer": "ipython3",
   "version": "3.7.4"
  }
 },
 "nbformat": 4,
 "nbformat_minor": 2
}
